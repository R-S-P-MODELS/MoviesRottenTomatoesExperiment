{
 "cells": [
  {
   "cell_type": "code",
   "execution_count": 1,
   "metadata": {},
   "outputs": [],
   "source": [
    "options(warn=-1)\n",
    "Arqs=list.files(pattern=\".csv\")"
   ]
  },
  {
   "cell_type": "code",
   "execution_count": 2,
   "metadata": {},
   "outputs": [
    {
     "data": {
      "text/html": [
       "<ol class=list-inline>\n",
       "\t<li>'Acao.csv'</li>\n",
       "\t<li>'Animacao.csv'</li>\n",
       "\t<li>'Classico.csv'</li>\n",
       "\t<li>'Comedia.csv'</li>\n",
       "\t<li>'Documentario.csv'</li>\n",
       "\t<li>'Drama.csv'</li>\n",
       "\t<li>'Esportes.csv'</li>\n",
       "\t<li>'Fantasy.csv'</li>\n",
       "\t<li>'Infantil.csv'</li>\n",
       "\t<li>'Musicais.csv'</li>\n",
       "\t<li>'Romance.csv'</li>\n",
       "\t<li>'SpecialInterest.csv'</li>\n",
       "\t<li>'Suspense.csv'</li>\n",
       "\t<li>'Televisão.csv'</li>\n",
       "\t<li>'Terror.csv'</li>\n",
       "\t<li>'Western.csv'</li>\n",
       "</ol>\n"
      ],
      "text/latex": [
       "\\begin{enumerate*}\n",
       "\\item 'Acao.csv'\n",
       "\\item 'Animacao.csv'\n",
       "\\item 'Classico.csv'\n",
       "\\item 'Comedia.csv'\n",
       "\\item 'Documentario.csv'\n",
       "\\item 'Drama.csv'\n",
       "\\item 'Esportes.csv'\n",
       "\\item 'Fantasy.csv'\n",
       "\\item 'Infantil.csv'\n",
       "\\item 'Musicais.csv'\n",
       "\\item 'Romance.csv'\n",
       "\\item 'SpecialInterest.csv'\n",
       "\\item 'Suspense.csv'\n",
       "\\item 'Televisão.csv'\n",
       "\\item 'Terror.csv'\n",
       "\\item 'Western.csv'\n",
       "\\end{enumerate*}\n"
      ],
      "text/markdown": [
       "1. 'Acao.csv'\n",
       "2. 'Animacao.csv'\n",
       "3. 'Classico.csv'\n",
       "4. 'Comedia.csv'\n",
       "5. 'Documentario.csv'\n",
       "6. 'Drama.csv'\n",
       "7. 'Esportes.csv'\n",
       "8. 'Fantasy.csv'\n",
       "9. 'Infantil.csv'\n",
       "10. 'Musicais.csv'\n",
       "11. 'Romance.csv'\n",
       "12. 'SpecialInterest.csv'\n",
       "13. 'Suspense.csv'\n",
       "14. 'Televisão.csv'\n",
       "15. 'Terror.csv'\n",
       "16. 'Western.csv'\n",
       "\n",
       "\n"
      ],
      "text/plain": [
       " [1] \"Acao.csv\"            \"Animacao.csv\"        \"Classico.csv\"       \n",
       " [4] \"Comedia.csv\"         \"Documentario.csv\"    \"Drama.csv\"          \n",
       " [7] \"Esportes.csv\"        \"Fantasy.csv\"         \"Infantil.csv\"       \n",
       "[10] \"Musicais.csv\"        \"Romance.csv\"         \"SpecialInterest.csv\"\n",
       "[13] \"Suspense.csv\"        \"Televisão.csv\"       \"Terror.csv\"         \n",
       "[16] \"Western.csv\"        "
      ]
     },
     "metadata": {},
     "output_type": "display_data"
    }
   ],
   "source": [
    "Arqs"
   ]
  },
  {
   "cell_type": "code",
   "execution_count": 3,
   "metadata": {},
   "outputs": [],
   "source": [
    "nomes=strsplit(Arqs,\".csv\")"
   ]
  },
  {
   "cell_type": "code",
   "execution_count": 4,
   "metadata": {},
   "outputs": [
    {
     "data": {
      "text/html": [
       "<ol class=list-inline>\n",
       "\t<li>'Acao'</li>\n",
       "\t<li>'Animacao'</li>\n",
       "\t<li>'Classico'</li>\n",
       "\t<li>'Comedia'</li>\n",
       "\t<li>'Documentario'</li>\n",
       "\t<li>'Drama'</li>\n",
       "\t<li>'Esportes'</li>\n",
       "\t<li>'Fantasy'</li>\n",
       "\t<li>'Infantil'</li>\n",
       "\t<li>'Musicais'</li>\n",
       "\t<li>'Romance'</li>\n",
       "\t<li>'SpecialInterest'</li>\n",
       "\t<li>'Suspense'</li>\n",
       "\t<li>'Televisão'</li>\n",
       "\t<li>'Terror'</li>\n",
       "\t<li>'Western'</li>\n",
       "</ol>\n"
      ],
      "text/latex": [
       "\\begin{enumerate*}\n",
       "\\item 'Acao'\n",
       "\\item 'Animacao'\n",
       "\\item 'Classico'\n",
       "\\item 'Comedia'\n",
       "\\item 'Documentario'\n",
       "\\item 'Drama'\n",
       "\\item 'Esportes'\n",
       "\\item 'Fantasy'\n",
       "\\item 'Infantil'\n",
       "\\item 'Musicais'\n",
       "\\item 'Romance'\n",
       "\\item 'SpecialInterest'\n",
       "\\item 'Suspense'\n",
       "\\item 'Televisão'\n",
       "\\item 'Terror'\n",
       "\\item 'Western'\n",
       "\\end{enumerate*}\n"
      ],
      "text/markdown": [
       "1. 'Acao'\n",
       "2. 'Animacao'\n",
       "3. 'Classico'\n",
       "4. 'Comedia'\n",
       "5. 'Documentario'\n",
       "6. 'Drama'\n",
       "7. 'Esportes'\n",
       "8. 'Fantasy'\n",
       "9. 'Infantil'\n",
       "10. 'Musicais'\n",
       "11. 'Romance'\n",
       "12. 'SpecialInterest'\n",
       "13. 'Suspense'\n",
       "14. 'Televisão'\n",
       "15. 'Terror'\n",
       "16. 'Western'\n",
       "\n",
       "\n"
      ],
      "text/plain": [
       " [1] \"Acao\"            \"Animacao\"        \"Classico\"        \"Comedia\"        \n",
       " [5] \"Documentario\"    \"Drama\"           \"Esportes\"        \"Fantasy\"        \n",
       " [9] \"Infantil\"        \"Musicais\"        \"Romance\"         \"SpecialInterest\"\n",
       "[13] \"Suspense\"        \"Televisão\"       \"Terror\"          \"Western\"        "
      ]
     },
     "metadata": {},
     "output_type": "display_data"
    }
   ],
   "source": [
    "nomes=unlist(nomes)\n",
    "nomes"
   ]
  },
  {
   "cell_type": "code",
   "execution_count": 5,
   "metadata": {},
   "outputs": [],
   "source": [
    "leitura=lapply(Arqs,read.csv)"
   ]
  },
  {
   "cell_type": "code",
   "execution_count": 6,
   "metadata": {},
   "outputs": [],
   "source": [
    "df=data.frame(nomes[1],mean(leitura[[1]]$Reviewers),mean(leitura[[1]]$Users),cor(leitura[[1]]$Reviewers,leitura[[1]]$Users),ks.test(leitura[[1]]$Reviewers,leitura[[1]]$Users)$p)"
   ]
  },
  {
   "cell_type": "code",
   "execution_count": 7,
   "metadata": {},
   "outputs": [],
   "source": [
    "names(df)=c('Genero','Reviewers','Users','Pearson','KolgomorovPValue')"
   ]
  },
  {
   "cell_type": "code",
   "execution_count": 8,
   "metadata": {},
   "outputs": [],
   "source": [
    "for(i in 2:length(Arqs)){\n",
    "    aux=data.frame(nomes[i],mean(leitura[[i]]$Reviewers),mean(leitura[[i]]$Users),cor(leitura[[i]]$Reviewers,leitura[[i]]$Users),ks.test(leitura[[i]]$Reviewers,leitura[[i]]$Users)$p)\n",
    "    names(aux)=c('Genero','Reviewers','Users','Pearson','KolgomorovPValue')\n",
    "    df=rbind(df,aux)\n",
    "}"
   ]
  },
  {
   "cell_type": "code",
   "execution_count": 9,
   "metadata": {},
   "outputs": [
    {
     "data": {
      "text/html": [
       "<table>\n",
       "<thead><tr><th scope=col>Genero</th><th scope=col>Reviewers</th><th scope=col>Users</th><th scope=col>Pearson</th><th scope=col>KolgomorovPValue</th></tr></thead>\n",
       "<tbody>\n",
       "\t<tr><td>Acao           </td><td>95.05042       </td><td>86.77311       </td><td>0.1827566      </td><td>0.000000e+00   </td></tr>\n",
       "\t<tr><td>Animacao       </td><td>93.87500       </td><td>82.80833       </td><td>0.3884056      </td><td>9.992007e-16   </td></tr>\n",
       "\t<tr><td>Classico       </td><td>93.87500       </td><td>82.80833       </td><td>0.3884056      </td><td>9.992007e-16   </td></tr>\n",
       "\t<tr><td>Comedia        </td><td>96.16949       </td><td>84.01695       </td><td>0.1389889      </td><td>0.000000e+00   </td></tr>\n",
       "\t<tr><td>Documentario   </td><td>97.38333       </td><td>84.74167       </td><td>0.2228369      </td><td>0.000000e+00   </td></tr>\n",
       "\t<tr><td>Drama          </td><td>96.62931       </td><td>87.37069       </td><td>0.4626271      </td><td>0.000000e+00   </td></tr>\n",
       "\t<tr><td>Esportes       </td><td>81.18072       </td><td>79.51807       </td><td>0.5875624      </td><td>5.806101e-04   </td></tr>\n",
       "\t<tr><td>Fantasy        </td><td>94.73729       </td><td>85.78814       </td><td>0.1269599      </td><td>0.000000e+00   </td></tr>\n",
       "\t<tr><td>Infantil       </td><td>93.83193       </td><td>82.39496       </td><td>0.2182880      </td><td>0.000000e+00   </td></tr>\n",
       "\t<tr><td>Musicais       </td><td>94.27731       </td><td>84.98319       </td><td>0.2805501      </td><td>0.000000e+00   </td></tr>\n",
       "\t<tr><td>Romance        </td><td>95.27500       </td><td>85.00000       </td><td>0.3228984      </td><td>0.000000e+00   </td></tr>\n",
       "\t<tr><td>SpecialInterest</td><td>96.47500       </td><td>84.31667       </td><td>0.2512618      </td><td>0.000000e+00   </td></tr>\n",
       "\t<tr><td>Suspense       </td><td>96.06780       </td><td>86.13559       </td><td>0.3697055      </td><td>0.000000e+00   </td></tr>\n",
       "\t<tr><td>Televisão      </td><td>82.00000       </td><td>74.94521       </td><td>0.7768601      </td><td>2.652828e-07   </td></tr>\n",
       "\t<tr><td>Terror         </td><td>92.34454       </td><td>79.64706       </td><td>0.2813065      </td><td>7.771561e-16   </td></tr>\n",
       "\t<tr><td>Western        </td><td>75.02105       </td><td>72.01053       </td><td>0.7876455      </td><td>2.778622e-03   </td></tr>\n",
       "</tbody>\n",
       "</table>\n"
      ],
      "text/latex": [
       "\\begin{tabular}{r|lllll}\n",
       " Genero & Reviewers & Users & Pearson & KolgomorovPValue\\\\\n",
       "\\hline\n",
       "\t Acao            & 95.05042        & 86.77311        & 0.1827566       & 0.000000e+00   \\\\\n",
       "\t Animacao        & 93.87500        & 82.80833        & 0.3884056       & 9.992007e-16   \\\\\n",
       "\t Classico        & 93.87500        & 82.80833        & 0.3884056       & 9.992007e-16   \\\\\n",
       "\t Comedia         & 96.16949        & 84.01695        & 0.1389889       & 0.000000e+00   \\\\\n",
       "\t Documentario    & 97.38333        & 84.74167        & 0.2228369       & 0.000000e+00   \\\\\n",
       "\t Drama           & 96.62931        & 87.37069        & 0.4626271       & 0.000000e+00   \\\\\n",
       "\t Esportes        & 81.18072        & 79.51807        & 0.5875624       & 5.806101e-04   \\\\\n",
       "\t Fantasy         & 94.73729        & 85.78814        & 0.1269599       & 0.000000e+00   \\\\\n",
       "\t Infantil        & 93.83193        & 82.39496        & 0.2182880       & 0.000000e+00   \\\\\n",
       "\t Musicais        & 94.27731        & 84.98319        & 0.2805501       & 0.000000e+00   \\\\\n",
       "\t Romance         & 95.27500        & 85.00000        & 0.3228984       & 0.000000e+00   \\\\\n",
       "\t SpecialInterest & 96.47500        & 84.31667        & 0.2512618       & 0.000000e+00   \\\\\n",
       "\t Suspense        & 96.06780        & 86.13559        & 0.3697055       & 0.000000e+00   \\\\\n",
       "\t Televisão       & 82.00000        & 74.94521        & 0.7768601       & 2.652828e-07   \\\\\n",
       "\t Terror          & 92.34454        & 79.64706        & 0.2813065       & 7.771561e-16   \\\\\n",
       "\t Western         & 75.02105        & 72.01053        & 0.7876455       & 2.778622e-03   \\\\\n",
       "\\end{tabular}\n"
      ],
      "text/markdown": [
       "\n",
       "| Genero | Reviewers | Users | Pearson | KolgomorovPValue |\n",
       "|---|---|---|---|---|\n",
       "| Acao            | 95.05042        | 86.77311        | 0.1827566       | 0.000000e+00    |\n",
       "| Animacao        | 93.87500        | 82.80833        | 0.3884056       | 9.992007e-16    |\n",
       "| Classico        | 93.87500        | 82.80833        | 0.3884056       | 9.992007e-16    |\n",
       "| Comedia         | 96.16949        | 84.01695        | 0.1389889       | 0.000000e+00    |\n",
       "| Documentario    | 97.38333        | 84.74167        | 0.2228369       | 0.000000e+00    |\n",
       "| Drama           | 96.62931        | 87.37069        | 0.4626271       | 0.000000e+00    |\n",
       "| Esportes        | 81.18072        | 79.51807        | 0.5875624       | 5.806101e-04    |\n",
       "| Fantasy         | 94.73729        | 85.78814        | 0.1269599       | 0.000000e+00    |\n",
       "| Infantil        | 93.83193        | 82.39496        | 0.2182880       | 0.000000e+00    |\n",
       "| Musicais        | 94.27731        | 84.98319        | 0.2805501       | 0.000000e+00    |\n",
       "| Romance         | 95.27500        | 85.00000        | 0.3228984       | 0.000000e+00    |\n",
       "| SpecialInterest | 96.47500        | 84.31667        | 0.2512618       | 0.000000e+00    |\n",
       "| Suspense        | 96.06780        | 86.13559        | 0.3697055       | 0.000000e+00    |\n",
       "| Televisão       | 82.00000        | 74.94521        | 0.7768601       | 2.652828e-07    |\n",
       "| Terror          | 92.34454        | 79.64706        | 0.2813065       | 7.771561e-16    |\n",
       "| Western         | 75.02105        | 72.01053        | 0.7876455       | 2.778622e-03    |\n",
       "\n"
      ],
      "text/plain": [
       "   Genero          Reviewers Users    Pearson   KolgomorovPValue\n",
       "1  Acao            95.05042  86.77311 0.1827566 0.000000e+00    \n",
       "2  Animacao        93.87500  82.80833 0.3884056 9.992007e-16    \n",
       "3  Classico        93.87500  82.80833 0.3884056 9.992007e-16    \n",
       "4  Comedia         96.16949  84.01695 0.1389889 0.000000e+00    \n",
       "5  Documentario    97.38333  84.74167 0.2228369 0.000000e+00    \n",
       "6  Drama           96.62931  87.37069 0.4626271 0.000000e+00    \n",
       "7  Esportes        81.18072  79.51807 0.5875624 5.806101e-04    \n",
       "8  Fantasy         94.73729  85.78814 0.1269599 0.000000e+00    \n",
       "9  Infantil        93.83193  82.39496 0.2182880 0.000000e+00    \n",
       "10 Musicais        94.27731  84.98319 0.2805501 0.000000e+00    \n",
       "11 Romance         95.27500  85.00000 0.3228984 0.000000e+00    \n",
       "12 SpecialInterest 96.47500  84.31667 0.2512618 0.000000e+00    \n",
       "13 Suspense        96.06780  86.13559 0.3697055 0.000000e+00    \n",
       "14 Televisão       82.00000  74.94521 0.7768601 2.652828e-07    \n",
       "15 Terror          92.34454  79.64706 0.2813065 7.771561e-16    \n",
       "16 Western         75.02105  72.01053 0.7876455 2.778622e-03    "
      ]
     },
     "metadata": {},
     "output_type": "display_data"
    }
   ],
   "source": [
    "df"
   ]
  },
  {
   "cell_type": "code",
   "execution_count": 10,
   "metadata": {},
   "outputs": [],
   "source": [
    "Ratio=df$Reviewers/df$Users"
   ]
  },
  {
   "cell_type": "code",
   "execution_count": 11,
   "metadata": {},
   "outputs": [
    {
     "name": "stdout",
     "output_type": "stream",
     "text": [
      "O Genero em que os reviewers profissionais mais concordam é: Esportes"
     ]
    }
   ],
   "source": [
    "cat('O Genero em que os reviewers profissionais mais concordam é:',as.character(df$Genero[which.min(Ratio)])  )"
   ]
  },
  {
   "cell_type": "code",
   "execution_count": 12,
   "metadata": {},
   "outputs": [
    {
     "name": "stdout",
     "output_type": "stream",
     "text": [
      "O Genero em que os reviewers profissionais mais discordam é: Terror"
     ]
    }
   ],
   "source": [
    "cat('O Genero em que os reviewers profissionais mais discordam é:',as.character(df$Genero[which.max(Ratio)])  )"
   ]
  },
  {
   "cell_type": "code",
   "execution_count": 13,
   "metadata": {},
   "outputs": [
    {
     "name": "stdout",
     "output_type": "stream",
     "text": [
      "O Genero em que as opiniões dos reviewers se tornam uteis é: Western"
     ]
    }
   ],
   "source": [
    "cat('O Genero em que as opiniões dos reviewers se tornam uteis é:',as.character(df$Genero[which.max(df$Pearson)])  )"
   ]
  },
  {
   "cell_type": "code",
   "execution_count": 14,
   "metadata": {},
   "outputs": [
    {
     "name": "stdout",
     "output_type": "stream",
     "text": [
      "O Genero em que as opiniões dos reviewers se tornam menos uteis é: Fantasy"
     ]
    }
   ],
   "source": [
    "cat('O Genero em que as opiniões dos reviewers se tornam menos uteis é:',as.character(df$Genero[which.min(df$Pearson)])  )"
   ]
  },
  {
   "cell_type": "code",
   "execution_count": 15,
   "metadata": {},
   "outputs": [
    {
     "name": "stdout",
     "output_type": "stream",
     "text": [
      "O numero de generos em que os reviewers é representativo do usuario é de: 0"
     ]
    }
   ],
   "source": [
    "cat('O numero de generos em que os reviewers é representativo do usuario é de:',sum(df$KolgomorovPValue>0.05))"
   ]
  },
  {
   "cell_type": "code",
   "execution_count": null,
   "metadata": {},
   "outputs": [],
   "source": []
  }
 ],
 "metadata": {
  "kernelspec": {
   "display_name": "R",
   "language": "R",
   "name": "ir"
  },
  "language_info": {
   "codemirror_mode": "r",
   "file_extension": ".r",
   "mimetype": "text/x-r-source",
   "name": "R",
   "pygments_lexer": "r",
   "version": "3.4.4"
  }
 },
 "nbformat": 4,
 "nbformat_minor": 2
}
