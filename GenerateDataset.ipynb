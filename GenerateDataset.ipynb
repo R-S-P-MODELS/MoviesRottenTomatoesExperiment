{
 "cells": [
  {
   "cell_type": "code",
   "execution_count": 1,
   "metadata": {},
   "outputs": [],
   "source": [
    "source(\"RottenTomatoes.R\")"
   ]
  },
  {
   "cell_type": "code",
   "execution_count": 2,
   "metadata": {},
   "outputs": [],
   "source": [
    "acao=\"https://rottentomatoes.com/top/bestofrt/top_100_action__adventure_movies/\"\n",
    "animacao=\"https://rottentomatoes.com/top/bestofrt/top_100_animation_movies/\"\n",
    "Classico=\"https://rottentomatoes.com/top/bestofrt/top_100_classics_movies/\"\n",
    "Comedia=\"https://rottentomatoes.com/top/bestofrt/top_100_comedy_movies/\"\n",
    "Documentario=\"https://rottentomatoes.com/top/bestofrt/top_100_documentary_movies/\"\n",
    "Drama=\"https://rottentomatoes.com/top/bestofrt/top_100_drama_movies/\"\n",
    "Terror=\"https://rottentomatoes.com/top/bestofrt/top_100_horror_movies/\"\n",
    "Infantil=\"https://rottentomatoes.com/top/bestofrt/top_100_kids__family_movies/\"\n",
    "Musicais=\"https://rottentomatoes.com/top/bestofrt/top_100_musical__performing_arts_movies/\"\n",
    "Suspense=\"https://rottentomatoes.com/top/bestofrt/top_100_mystery__suspense_movies/\"\n",
    "Romance=\"https://rottentomatoes.com/top/bestofrt/top_100_romance_movies/\"\n",
    "Fantasy=\"https://rottentomatoes.com/top/bestofrt/top_100_science_fiction__fantasy_movies/\"\n",
    "SpecialInterest=\"https://rottentomatoes.com/top/bestofrt/top_100_special_interest_movies/\"\n",
    "Esportes=\"https://rottentomatoes.com/top/bestofrt/top_100_sports__fitness_movies/\"\n",
    "Televisão=\"https://rottentomatoes.com/top/bestofrt/top_100_television_movies/\"\n",
    "Western=\"https://rottentomatoes.com/top/bestofrt/top_100_western_movies/\""
   ]
  },
  {
   "cell_type": "code",
   "execution_count": 3,
   "metadata": {},
   "outputs": [],
   "source": [
    "FilmesAcao=FindRottenLinks(acao)\n",
    "FilmesAnimacao=FindRottenLinks(animacao)\n",
    "FilmesClassico=FindRottenLinks(Classico)\n",
    "FilmesComedia=FindRottenLinks(Comedia)\n",
    "FilmesDocumentario=FindRottenLinks(Documentario)\n",
    "FilmesDrama=FindRottenLinks(Drama)\n",
    "FilmesTerror=FindRottenLinks(Terror)\n",
    "FilmesInfantil=FindRottenLinks(Infantil)\n",
    "FilmesMusicais=FindRottenLinks(Musicais)\n",
    "FilmesSuspense=FindRottenLinks(Suspense)\n",
    "FilmesRomance=FindRottenLinks(Romance)\n",
    "FilmesFantasy=FindRottenLinks(Fantasy)\n",
    "FilmesSpecialInterest=FindRottenLinks(SpecialInterest)\n",
    "FilmesEsportes=FindRottenLinks(Esportes)\n",
    "FilmesTelevisão=FindRottenLinks(Televisão)\n",
    "FilmesWestern=FindRottenLinks(Western)\n"
   ]
  },
  {
   "cell_type": "code",
   "execution_count": 4,
   "metadata": {},
   "outputs": [
    {
     "name": "stderr",
     "output_type": "stream",
     "text": [
      "Loading required package: tm\n",
      "Loading required package: NLP\n"
     ]
    }
   ],
   "source": [
    "ListaAcao=list()\n",
    "for(i in 1:length(FilmesAcao))\n",
    "    ListaAcao[[i]]=ReviewRottenTomatoes(FilmesAcao[i])\n",
    "\n",
    "\n",
    "ListaAcao=Reduce(rbind,ListaAcao)\n",
    "write.csv(ListaAcao,file=\"Acao.csv\",row.names=FALSE)\n"
   ]
  },
  {
   "cell_type": "code",
   "execution_count": 5,
   "metadata": {},
   "outputs": [],
   "source": [
    "ListaAnimacao=list()\n",
    "for(i in 1:length(FilmesAnimacao))\n",
    "    ListaAnimacao[[i]]=ReviewRottenTomatoes(FilmesAnimacao[i])\n",
    "\n",
    "\n",
    "ListaAnimacao=Reduce(rbind,ListaAnimacao)\n",
    "write.csv(ListaAnimacao,file=\"Animacao.csv\",row.names=FALSE)\n"
   ]
  },
  {
   "cell_type": "code",
   "execution_count": 6,
   "metadata": {},
   "outputs": [],
   "source": [
    "ListaClassico=list()\n",
    "for(i in 1:length(FilmesClassico))\n",
    "    ListaClassico[[i]]=ReviewRottenTomatoes(FilmesClassico[i])\n",
    "\n",
    "\n",
    "ListaClassico=Reduce(rbind,ListaClassico)\n",
    "write.csv(ListaAnimacao,file=\"Classico.csv\",row.names=FALSE)\n"
   ]
  },
  {
   "cell_type": "code",
   "execution_count": 7,
   "metadata": {},
   "outputs": [],
   "source": [
    "ListaComedia=list()\n",
    "for(i in 1:length(FilmesComedia))\n",
    "    ListaComedia[[i]]=ReviewRottenTomatoes(FilmesComedia[i])\n",
    "\n",
    "\n",
    "ListaComedia=Reduce(rbind,ListaComedia)\n",
    "write.csv(ListaComedia,file=\"Comedia.csv\",row.names=FALSE)"
   ]
  },
  {
   "cell_type": "code",
   "execution_count": 8,
   "metadata": {},
   "outputs": [],
   "source": [
    "ListaDocumentario=list()\n",
    "for(i in 1:length(FilmesDocumentario))\n",
    "    ListaDocumentario[[i]]=ReviewRottenTomatoes(FilmesDocumentario[i])\n",
    "\n",
    "\n",
    "ListaDocumentario=Reduce(rbind,ListaDocumentario)\n",
    "write.csv(ListaDocumentario,file=\"Documentario.csv\",row.names=FALSE)\n"
   ]
  },
  {
   "cell_type": "code",
   "execution_count": 9,
   "metadata": {},
   "outputs": [],
   "source": [
    "ListaDrama=list()\n",
    "for(i in 1:length(FilmesDrama))\n",
    "    ListaDrama[[i]]=ReviewRottenTomatoes(FilmesDrama[i])\n",
    "\n",
    "\n",
    "ListaDrama=Reduce(rbind,ListaDrama)\n",
    "write.csv(ListaDrama,file=\"Drama.csv\",row.names=FALSE)"
   ]
  },
  {
   "cell_type": "code",
   "execution_count": 12,
   "metadata": {},
   "outputs": [],
   "source": [
    "ListaTerror=list()\n",
    "for(i in 1:length(FilmesTerror))\n",
    "    ListaTerror[[i]]=ReviewRottenTomatoes(FilmesTerror[i])\n",
    "\n",
    "\n",
    "ListaTerror=Reduce(rbind,ListaTerror)\n",
    "write.csv(ListaTerror,file=\"Terror.csv\",row.names=FALSE)"
   ]
  },
  {
   "cell_type": "code",
   "execution_count": 13,
   "metadata": {},
   "outputs": [],
   "source": [
    "ListaInfantil=list()\n",
    "for(i in 1:length(FilmesInfantil))\n",
    "    ListaInfantil[[i]]=ReviewRottenTomatoes(FilmesInfantil[i])\n",
    "\n",
    "\n",
    "ListaInfantil=Reduce(rbind,ListaInfantil)\n",
    "write.csv(ListaInfantil,file=\"Infantil.csv\",row.names=FALSE)"
   ]
  },
  {
   "cell_type": "code",
   "execution_count": 14,
   "metadata": {},
   "outputs": [],
   "source": [
    "ListaMusicais=list()\n",
    "for(i in 1:length(FilmesMusicais))\n",
    "    ListaMusicais[[i]]=ReviewRottenTomatoes(FilmesMusicais[i])\n",
    "\n",
    "\n",
    "ListaMusicais=Reduce(rbind,ListaMusicais)\n",
    "write.csv(ListaMusicais,file=\"Musicais.csv\",row.names=FALSE)"
   ]
  },
  {
   "cell_type": "code",
   "execution_count": 15,
   "metadata": {},
   "outputs": [],
   "source": [
    "ListaSuspense=list()\n",
    "for(i in 1:length(FilmesSuspense))\n",
    "    ListaSuspense[[i]]=ReviewRottenTomatoes(FilmesSuspense[i])\n",
    "\n",
    "\n",
    "ListaSuspense=Reduce(rbind,ListaSuspense)\n",
    "write.csv(ListaSuspense,file=\"Suspense.csv\",row.names=FALSE)"
   ]
  },
  {
   "cell_type": "code",
   "execution_count": 16,
   "metadata": {},
   "outputs": [],
   "source": [
    "ListaRomance=list()\n",
    "for(i in 1:length(FilmesRomance))\n",
    "    ListaRomance[[i]]=ReviewRottenTomatoes(FilmesRomance[i])\n",
    "\n",
    "\n",
    "ListaRomance=Reduce(rbind,ListaRomance)\n",
    "write.csv(ListaRomance,file=\"Romance.csv\",row.names=FALSE)"
   ]
  },
  {
   "cell_type": "code",
   "execution_count": 17,
   "metadata": {},
   "outputs": [],
   "source": [
    "ListaFantasy=list()\n",
    "for(i in 1:length(FilmesFantasy))\n",
    "    ListaFantasy[[i]]=ReviewRottenTomatoes(FilmesFantasy[i])\n",
    "\n",
    "\n",
    "ListaFantasy=Reduce(rbind,ListaFantasy)\n",
    "write.csv(ListaFantasy,file=\"Fantasy.csv\",row.names=FALSE)"
   ]
  },
  {
   "cell_type": "code",
   "execution_count": 18,
   "metadata": {},
   "outputs": [],
   "source": [
    "ListaSpecialInterest=list()\n",
    "for(i in 1:length(FilmesSpecialInterest))\n",
    "    ListaSpecialInterest[[i]]=ReviewRottenTomatoes(FilmesSpecialInterest[i])\n",
    "\n",
    "\n",
    "ListaSpecialInterest=Reduce(rbind,ListaSpecialInterest)\n",
    "write.csv(ListaSpecialInterest,file=\"SpecialInterest.csv\",row.names=FALSE)"
   ]
  },
  {
   "cell_type": "code",
   "execution_count": 19,
   "metadata": {},
   "outputs": [],
   "source": [
    "ListaEsportes=list()\n",
    "for(i in 1:length(FilmesEsportes))\n",
    "    ListaEsportes[[i]]=ReviewRottenTomatoes(FilmesEsportes[i])\n",
    "\n",
    "\n",
    "ListaEsportes=Reduce(rbind,ListaEsportes)\n",
    "write.csv(ListaEsportes,file=\"Esportes.csv\",row.names=FALSE)"
   ]
  },
  {
   "cell_type": "code",
   "execution_count": 20,
   "metadata": {},
   "outputs": [],
   "source": [
    "ListaTelevisão=list()\n",
    "for(i in 1:length(FilmesTelevisão))\n",
    "    ListaTelevisão[[i]]=ReviewRottenTomatoes(FilmesTelevisão[i])\n",
    "\n",
    "\n",
    "ListaTelevisão=Reduce(rbind,ListaTelevisão)\n",
    "write.csv(ListaTelevisão,file=\"Televisão.csv\",row.names=FALSE)"
   ]
  },
  {
   "cell_type": "code",
   "execution_count": 21,
   "metadata": {},
   "outputs": [],
   "source": [
    "ListaWestern=list()\n",
    "for(i in 1:length(FilmesWestern))\n",
    "    ListaWestern[[i]]=ReviewRottenTomatoes(FilmesWestern[i])\n",
    "\n",
    "\n",
    "ListaWestern=Reduce(rbind,ListaWestern)\n",
    "write.csv(ListaWestern,file=\"Western.csv\",row.names=FALSE)"
   ]
  }
 ],
 "metadata": {
  "kernelspec": {
   "display_name": "R",
   "language": "R",
   "name": "ir"
  },
  "language_info": {
   "codemirror_mode": "r",
   "file_extension": ".r",
   "mimetype": "text/x-r-source",
   "name": "R",
   "pygments_lexer": "r",
   "version": "3.4.4"
  }
 },
 "nbformat": 4,
 "nbformat_minor": 2
}
